{
 "cells": [
  {
   "attachments": {},
   "cell_type": "markdown",
   "metadata": {},
   "source": [
    "## Welcome to the OpenKIM tutorial at MACH 2023\n",
    "\n",
    "Let's take a look at what's inside the LAMMPS file. Run the cell below to see:"
   ]
  },
  {
   "cell_type": "code",
   "execution_count": null,
   "metadata": {},
   "outputs": [],
   "source": [
    "!cat in.lammps"
   ]
  },
  {
   "attachments": {},
   "cell_type": "markdown",
   "metadata": {},
   "source": [
    "Now let's run the file:"
   ]
  },
  {
   "cell_type": "code",
   "execution_count": null,
   "metadata": {},
   "outputs": [],
   "source": [
    "!lmp_mpi < in.lammps"
   ]
  },
  {
   "attachments": {},
   "cell_type": "markdown",
   "metadata": {},
   "source": [
    "Now let's do a calculation in ASE:"
   ]
  },
  {
   "cell_type": "code",
   "execution_count": null,
   "metadata": {},
   "outputs": [],
   "source": [
    "from ase.calculators.kim import KIM\n",
    "from ase.lattice.cubic import FaceCenteredCubic\n",
    "from kim_query import get_lattice_constant_cubic\n",
    "from ase.optimize import LBFGS\n",
    "# Define KIM model and get Al fcc lattice parameter for this potential\n",
    "model = \"EAM_Dynamo_ErcolessiAdams_1994_Al__MO_123629422045_005\"\n",
    "calc = KIM(model)\n",
    "a0 = get_lattice_constant_cubic([model], [\"fcc\"], [\"Al\"], [\"angstrom\"])[0]\n",
    "# Set up fcc crystal\n",
    "atoms = FaceCenteredCubic(\"Al\", latticeconstant=a0,size=(3,3,3),pbc=(1,1,0)\n",
    "atoms.calc = calc\n",
    "# Compute energy\n",
    "dyn = BFGS(atoms)"
    "dyn.run(fmax=0.05)"
    "print(atoms.get_potential_energy())"
   ]
  }
 ],
 "metadata": {
  "kernelspec": {
   "display_name": "base",
   "language": "python",
   "name": "python3"
  },
  "language_info": {
   "codemirror_mode": {
    "name": "ipython",
    "version": 3
   },
   "file_extension": ".py",
   "mimetype": "text/x-python",
   "name": "python",
   "nbconvert_exporter": "python",
   "pygments_lexer": "ipython3",
   "version": "3.10.10"
  },
  "orig_nbformat": 4
 },
 "nbformat": 4,
 "nbformat_minor": 2
}
